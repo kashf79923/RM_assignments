{
 "cells": [
  {
   "cell_type": "markdown",
   "metadata": {},
   "source": [
    "# Research Methods <br>UHH - Knowledge Technology Research Group - WiSe 2024/2025\n",
    "## Assignment #4 - Experiment Design, Ethics & Evaluation"
   ]
  },
  {
   "cell_type": "markdown",
   "metadata": {},
   "source": [
    "***\n",
    "### Group: \n",
    "### Names of members: \n",
    "\n",
    "***"
   ]
  },
  {
   "cell_type": "markdown",
   "metadata": {},
   "source": [
    "### Instructions:\n",
    "\n",
    "Please answer the questions below. Copy this notebook and enter your answers underneath each task description, inserting cells as needed. You may use a combination of [python 3](https://www.python.org), [markdown](http://jupyter-notebook.readthedocs.io/en/stable/examples/Notebook/Working%20With%20Markdown%20Cells.html), and [LaTex](https://towardsdatascience.com/write-markdown-latex-in-the-jupyter-notebook-10985edb91fd) to formulate your responses. In order to successfully complete the assignment, you will need the lecture material provided in the [RM moodle course](https://lernen.min.uni-hamburg.de/course/view.php?id=4709), especially L06, L07 and L08.\n",
    "\n",
    "**Make sure to use only a copy of this notebook for your answers instead of a new/blank notebook.**\n",
    "\n",
    "### Grading Criteria:\n",
    "\n",
    "In order to successfully pass this assignment, you will need **at least a total of 70 points out of 100 points**, and **every** task has to be tackled.\n",
    "\n",
    "### Submission:\n",
    "\n",
    "Please upload the following two files **until Tuesday, December 10, 2024, 20:00 CET (Germany)** together in a .zip archive in moodle:\n",
    "1. a (single) copy of this jupyter notebook containing your answers for all tasks (file extension: .ipynb)\n",
    "2. an [exported PDF document](https://jupyterlab.readthedocs.io/en/stable/user/export.html) of the jupyter notebook (file extension: .pdf)\n",
    "3. Consent form and Ethics Assessment Form as PDF (cf. Task 2) \n",
    "4. the data file(s) containing your Magic API data (cf. Task 3)\n",
    "\n",
    "### Presentation:\n",
    "\n",
    "Make sure that each (!) group member takes part in solving this assignment and is prepared to answer questions and/or present solutions from your submitted notebook during our assignment revision meeting scheduled for **Wednesday, December 18, 2024, 10:00 - 13:00 CET (Germany)**.\n",
    "\n",
    "### File Naming:\n",
    "\n",
    "Add the group letter to the file name prior to submission. For example, if your group letter is \"A\" (see group selection in moodle), you would use the following filename: \n",
    "1. RM_A04_Group_A.ipynb \n",
    "2. RM_A04_Group_A.pdf\n",
    "\n",
    "***\n",
    "***"
   ]
  },
  {
   "cell_type": "markdown",
   "metadata": {},
   "source": [
    "#### Task 1 **[30 points]  Experiment Design**\n",
    "Design a small study that aims to answer the given question **(A)** and a question of your choice **(B)**.<br> \n",
    "The aim is to prepare a study that can then be sent to an ethics board for approval (see **task 2**), so no real working questionnaire is needed, just the questions and how the participants can answer (i.e. description of the used scale/items). The outcome of task 1 should be a questionnaire with at least 6 questions.\n",
    "\n",
    "**(A)**: Is there a relationship between social media use and self-reported stress levels?\n",
    "\n",
    "* $H_0$: *state here, see 1.2.*\n",
    "* $H_1$: *state here, see 1.2.*\n",
    "\n",
    "**(B)**: *Fill in your question, see 1.1.*\n",
    "\n",
    "* $H_0$: *state here, see 1.3.*\n",
    "* $H_1$: *state here, see 1.3.*\n",
    "\n",
    "\n",
    "1. Think of one variable which may affect the stress level other than social media use. Include this variable in your research and state the corresponding question (see question **(A)**).\n",
    "2. Formulate the corresponding hypotheses ($H_0$, $H_1$) to the question **(A)**. \n",
    "3. Formulate the corresponding hypotheses ($H_0$, $H_1$) to the question **(B)** (your own variable).\n",
    "4. Define and write down all factors that you want/have to include (independent, dependent, extraneous, possible confounds) as table or diagram. Include some explanation. \n",
    "5. Define the type of variables, measurements, scales for each factor you want to measure (including estimate of expected values) as a table.\n",
    "6. Design a questionnaire, that collects the measurements as defined in Task 1.5 and describe how you would conduct the experiment (e.g., online, at a computer on campus, on paper, etc?).\n",
    "7. Define and assess the validity and reliability of your experiment and its measurements (a written explanation without calculations is sufficient)."
   ]
  },
  {
   "cell_type": "code",
   "execution_count": null,
   "metadata": {},
   "outputs": [],
   "source": []
  },
  {
   "cell_type": "markdown",
   "metadata": {},
   "source": [
    "#### Task 2 **[20 points] Ethics and Consent**\n",
    "\n",
    "For this task, you are required to prepare the necessary documentation to seek ethics approval for the experiment you designed in Task 1. In addition to the experiment protocol (Task 1), you have to provide the consent form you are going to use and the basic questionnaire of the ethics board of the department. You can find the form and other information on the webpage of the ethics board: https://www.inf.uni-hamburg.de/en/home/ethics.html\n",
    "\n",
    "1. Write a comprehensive consent form that would be presented to a participant filling out the questionnaire in the process as defined in Task 1.6.\n",
    "2. Fill out the \"Ethics Assessment Form\" provided by the ethical committee for your experiment."
   ]
  },
  {
   "cell_type": "code",
   "execution_count": null,
   "metadata": {},
   "outputs": [],
   "source": []
  },
  {
   "cell_type": "markdown",
   "metadata": {},
   "source": [
    "#### Task 3 **[50 points] The Magic Data Experiment**\n",
    "\n",
    "Similar to Assigmnent 3, you will need to get data from our Magic Data API to finish this task (see sample code below).\n",
    "The overall aim of this task is to find the model that generates this data and show evidence that your chosen hypothesis is correct.\n",
    "\n",
    "**Make sure you justify, explain, and/or interpret decisions and visualizations made within this task.**\n",
    "\n",
    "1. Use the Magic Data API to collect initial data (please send your data files along with all other assignment deliverables). Perform EDA on your collected data in order to find a model that can explain the data. <br>_Hint: There might be temporal dependencies between data from API calls at different times..._\n",
    "2. Construct a graph that shows the hypothesized dependencies between the variables in your data.\n",
    "3. Choose one (or more) hypothesis to test and select appropriate testing methods to evaluate your hypotheses. Justify the chosen method(s) and the test procedure.\n",
    "4. Conduct the experiment: Gather the data needed (**only 500 data points in total are allowed!**), implement the statistical tests derived in Task 3.3, report key metrics such as test statistics, p-values, and effect sizes, and (most importantly!) interpret the results in the context of the hypothesis. Use appropriate visualizations to support conclusions and discuss their implications.\n",
    "5. Imagine you were to publish the results of your study in a short paper: Write a conclusion section for your hypothetical publication explaining your study results. This section should include the most relevant information about your study, i.e., a summary of the conducted experiment, the data collection process, the relevant statistics, the testing procedure(s), and your findings concerning the research question(s). **We are not looking for a full paper, just the last section!**<br>\n",
    "    _Hint: Take a look at [this paper](https://www.nature.com/articles/s41598-021-01325-z) for inspiration concerning scientific writing style and how to describe testing procedures and results._\n",
    "\n",
    "**Some rules/hints:**\n",
    "- Make sure to follow the steps: Inital Data -> EDA -> Hypothesis -> Experimental Data Collection -> Hypothesis test -> Result\n",
    "- In Task 3.3, think about an experimental procedure to test your hypothesis: How do I need to collect the data? Which conditions do you have/need? \n",
    "- Send all data together with your submission, so that we can follow up on your results! Make sure, to base everything for the experimental step on 500 data points in total. Carefully select how to gather data to prove your point! \n",
    "- **I repeat: The whole experiment in T3.4 has to be based on 500 data points! These can be collected in between 5-500 steps, depending on your procedure &#x1F600;**\n"
   ]
  },
  {
   "cell_type": "code",
   "execution_count": null,
   "metadata": {},
   "outputs": [],
   "source": [
    "# Get data from magic generator\n",
    "import pandas as pd\n",
    "import requests\n",
    "import json\n",
    "\n",
    "# Constants for the server access\n",
    "SERVER = \"http://134.100.12.180:8080\"\n",
    "HEADERS = {\"Accept\": \"application/json\"}\n",
    "\n",
    "# Retrieve data and store body in data frame\n",
    "data = {}\n",
    "number_of_data = 5\n",
    "result = requests.get(f\"{SERVER}/getdata/{number_of_data}\", headers=HEADERS)\n",
    "if result.status_code != 200:\n",
    "    print(\n",
    "        f\"Error while accessing the data generator: {result.json()['detail']}\"\n",
    "    )\n",
    "else:\n",
    "    data[\"data\"] = json.loads(result.json()[\"data\"])\n",
    "    data[\"date\"] = result.json()[\"date\"]\n",
    "\n",
    "    data_df = pd.DataFrame(data[\"data\"])"
   ]
  },
  {
   "cell_type": "code",
   "execution_count": null,
   "metadata": {},
   "outputs": [],
   "source": [
    "# Save data as file\n",
    "csv_header = f\"Data retrieved on: {data['date']}\\n\"\n",
    "\n",
    "with open(\"data/A04_data.csv\", \"w\") as f:\n",
    "    f.write(csv_header)\n",
    "    data_df.to_csv(f)"
   ]
  },
  {
   "cell_type": "code",
   "execution_count": null,
   "metadata": {},
   "outputs": [],
   "source": [
    "# Load data from file\n",
    "df_loaded = pd.read_csv(\"data/A04_data.csv\", header=1, index_col=0)\n",
    "df_loaded"
   ]
  }
 ],
 "metadata": {
  "kernelspec": {
   "display_name": "Python 3 (ipykernel)",
   "language": "python",
   "name": "python3"
  },
  "language_info": {
   "codemirror_mode": {
    "name": "ipython",
    "version": 3
   },
   "file_extension": ".py",
   "mimetype": "text/x-python",
   "name": "python",
   "nbconvert_exporter": "python",
   "pygments_lexer": "ipython3",
   "version": "3.12.4"
  }
 },
 "nbformat": 4,
 "nbformat_minor": 4
}
