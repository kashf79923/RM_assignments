{
 "cells": [
  {
   "cell_type": "markdown",
   "metadata": {},
   "source": [
    "# Research Methods <br>UHH - Knowledge Technology Research Group - WiSe 2024/2025\n",
    "## Assignment #4 - Experiment Design, Ethics & Evaluation"
   ]
  },
  {
   "cell_type": "markdown",
   "metadata": {},
   "source": [
    "***\n",
    "### Group: \n",
    "### Names of members: \n",
    "\n",
    "***"
   ]
  },
  {
   "cell_type": "markdown",
   "metadata": {},
   "source": [
    "### Instructions:\n",
    "\n",
    "Please answer the questions below. Copy this notebook and enter your answers underneath each task description, inserting cells as needed. You may use a combination of [python 3](https://www.python.org), [markdown](http://jupyter-notebook.readthedocs.io/en/stable/examples/Notebook/Working%20With%20Markdown%20Cells.html), and [LaTex](https://towardsdatascience.com/write-markdown-latex-in-the-jupyter-notebook-10985edb91fd) to formulate your responses. In order to successfully complete the assignment, you will need the lecture material provided in the [RM moodle course](https://lernen.min.uni-hamburg.de/course/view.php?id=4709), especially L06, L07 and L08.\n",
    "\n",
    "**Make sure to use only a copy of this notebook for your answers instead of a new/blank notebook.**\n",
    "\n",
    "### Grading Criteria:\n",
    "\n",
    "In order to successfully pass this assignment, you will need **at least a total of 70 points out of 100 points**, and **every** task has to be tackled.\n",
    "\n",
    "### Submission:\n",
    "\n",
    "Please upload the following two files **until Tuesday, December 10, 2024, 20:00 CET (Germany)** together in a .zip archive in moodle:\n",
    "1. a (single) copy of this jupyter notebook containing your answers for all tasks (file extension: .ipynb)\n",
    "2. an [exported PDF document](https://jupyterlab.readthedocs.io/en/stable/user/export.html) of the jupyter notebook (file extension: .pdf)\n",
    "3. Consent form and Ethics Assessment Form as PDF (cf. Task 2) \n",
    "4. the data file(s) containing your Magic API data (cf. Task 3)\n",
    "\n",
    "### Presentation:\n",
    "\n",
    "Make sure that each (!) group member takes part in solving this assignment and is prepared to answer questions and/or present solutions from your submitted notebook during our assignment revision meeting scheduled for **Wednesday, December 18, 2024, 10:00 - 13:00 CET (Germany)**.\n",
    "\n",
    "### File Naming:\n",
    "\n",
    "Add the group letter to the file name prior to submission. For example, if your group letter is \"A\" (see group selection in moodle), you would use the following filename: \n",
    "1. RM_A04_Group_A.ipynb \n",
    "2. RM_A04_Group_A.pdf\n",
    "\n",
    "***\n",
    "***"
   ]
  },
  {
   "cell_type": "markdown",
   "metadata": {},
   "source": [
    "#### Task 1 **[30 points]  Experiment Design**\n",
    "Design a small study that aims to answer the given question **(A)** and a question of your choice **(B)**.<br> \n",
    "The aim is to prepare a study that can then be sent to an ethics board for approval (see **task 2**), so no real working questionnaire is needed, just the questions and how the participants can answer (i.e. description of the used scale/items). The outcome of task 1 should be a questionnaire with at least 6 questions.\n",
    "\n",
    "**(A)**: Is there a relationship between social media use and self-reported stress levels?\n",
    "\n",
    "* $H_0$: *state here, see 1.2.*\n",
    "* $H_1$: *state here, see 1.2.*\n",
    "\n",
    "**(B)**: *Fill in your question, see 1.1.*\n",
    "\n",
    "* $H_0$: *state here, see 1.3.*\n",
    "* $H_1$: *state here, see 1.3.*\n",
    "\n",
    "\n",
    "1. Think of one variable which may affect the stress level other than social media use. Include this variable in your research and state the corresponding question (see question **(A)**).\n",
    "2. Formulate the corresponding hypotheses ($H_0$, $H_1$) to the question **(A)**. \n",
    "3. Formulate the corresponding hypotheses ($H_0$, $H_1$) to the question **(B)** (your own variable).\n",
    "4. Define and write down all factors that you want/have to include (independent, dependent, extraneous, possible confounds) as table or diagram. Include some explanation. \n",
    "5. Define the type of variables, measurements, scales for each factor you want to measure (including estimate of expected values) as a table.\n",
    "6. Design a questionnaire, that collects the measurements as defined in Task 1.5 and describe how you would conduct the experiment (e.g., online, at a computer on campus, on paper, etc?).\n",
    "7. Define and assess the validity and reliability of your experiment and its measurements (a written explanation without calculations is sufficient)."
   ]
  },
  {
   "cell_type": "markdown",
   "metadata": {},
   "source": [
    "### Task 1.1 1.2 1.3"
   ]
  },
  {
   "cell_type": "markdown",
   "metadata": {},
   "source": [
    "**(A)**: Is there a relationship between social media use and self-reported stress levels?\n",
    "\n",
    "* $H_0$: *Social media use does not effect on users' stress levels*\n",
    "* $H_1$: *There is a significant correlation or relationship between social media use and self-reported stress levels.*\n",
    "\n",
    "**(B)**: Is there a relationship between one's financial security and their stress levels?\n",
    "\n",
    "* $H_0$: *There is no significant correlation or relationship between an individual's financial status and their stress levels*\n",
    "* $H_1$: *Financial status effects on people's stress levels.*\n",
    "\n"
   ]
  },
  {
   "cell_type": "markdown",
   "metadata": {},
   "source": [
    "### Task 1.4"
   ]
  },
  {
   "cell_type": "markdown",
   "metadata": {},
   "source": [
    "| Variable                         | Description                                                      |\n",
    "|-------------------------------------|----------------------------------------------------------------------|\n",
    "| Social media use                       | This represents the amount and/or frequency of social media usage. |\n",
    "| Self-reported stress levels           | This refers to the level of stress experienced by the individuals, often measured using standardized scales (e.g., Perceived Stress Scale or a similar tool) for quantifiable reporting.                     |\n",
    "| Age                                 | Age may influence stress levels and social media habits, potentially skewing results if not controlled.    |\n",
    "| Economic status                     | Financial stability or insecurity may influence both social media habits and stress levels.                     |\n",
    "| Personality traits                  | Individual personality traits (e.g., introversion vs. extroversion) may impact both social media use and stress perception. |\n",
    "| Employment Status                   | Employment stability and satisfaction may impact stress levels and social media engagement.                     |\n",
    "| Mental health status                | Pre-existing mental health conditions may impact stress levels and influence social media use, causing confounding effects. |\n",
    "| Social circumstances                 | Hardships, wars, poverty, education, and culture can affect people's stress levels and even social media use. |\n",
    "| The nature of the social media platform| The specific characteristics of different platforms can influence users' experiences and feelings. For instance, platforms that emphasize visual aesthetics may increase anxiety over appearance (like Instagram), whereas more text-based platforms may lead to different stressors related to communication styles or controversy (like Twitter). |"
   ]
  },
  {
   "cell_type": "markdown",
   "metadata": {},
   "source": [
    "### Task 1.5"
   ]
  },
  {
   "cell_type": "markdown",
   "metadata": {},
   "source": [
    "| Variable Type   | Variable                         | Scales                                                      |\n",
    "|--------------------|-------------------------------|----------------------------------------------------------------------|\n",
    "|Independent Variable | Social media use                       |Ordinal or Interval, can be measured in screen time (hours per day), number of logins, etc. |\n",
    "| Dependent Variable | Self-reported stress levels           | We have come across 2 scales after some researching <br>1. Perceived Stress Scale (PSS): A widely used scale that assesses the perception of stress over the last month. <br> 2. State-Trait Anxiety Inventory (STAI): Measures anxiety levels which can be correlated to stress.                         |\n",
    "|Extraneous Variables| Age                            |  Interval, years. A simple self-report item asking for the participant's age (e.g., \"What is your age?\").   |\n",
    "|| Economic status                     |  Ordinal and/or Interval <br>1. Financial Satisfaction Scale: A self-reported measure assessing overall satisfaction with one's financial situation. <br> 2. Income Level: A questionnaire item asking for income brackets or specific income amounts.                       |\n",
    "|| Personality traits                  | Categorial and Ordinal. <br> Individual personality traits (e.g., introversion vs. extroversion) may impact both social media use and stress perception.<br> We can also rank their axiety levels, feelings, etc. |\n",
    "|| Employment status                   | Categorial. Employment stability and satisfaction may impact stress levels and social media engagement.                     |\n",
    "|Possible confounds| Mental health status                |Ordinal. <br> Base on STAI, we asked some questions about their traits and their feelings, and use a rating scale of 4.  |\n",
    "|| Social circumstances                 | We can include items assessing education, occupation, and income variables. <br>Categorial, and can be controlled when choosing a group (e.g If I select UHH university students, there is a high chance that most of them are be German residence and are students, which possibly means that they have low incomes)|\n",
    "||The nature of the social media platform| Categorial<br>Platform Usage Scale: Questions about which platforms respondents use (e.g., \"On which social media platforms do you regularly participate?\") along with qualitative items regarding their experience of stress on these platforms. <br>  |"
   ]
  },
  {
   "cell_type": "markdown",
   "metadata": {},
   "source": [
    "### Task 1.6"
   ]
  },
  {
   "cell_type": "markdown",
   "metadata": {},
   "source": [
    "#### A: Personal information\n",
    "1. What is your age?  \n",
    "   - __________ (Please enter your age in years)\n",
    "\n",
    "2. You are:\n",
    "   - [ ] Student  \n",
    "   - [ ] Unemployed  \n",
    "   - [ ] Employed  \n",
    "   - [ ] Self-employed\n",
    "   - [ ] Retired\n",
    "   - [ ] Other: _______________  \n",
    "\n",
    "3. How satisfied are you with your current financial situation?  \n",
    "   - [ ] Very Unsatisfied  \n",
    "   - [ ] Unsatisfied  \n",
    "   - [ ] Satisfied  \n",
    "   - [ ] Very Satisfied\n",
    "\n",
    "#### B: Please describe how you generally feel\n",
    "4. I am confident over my actions in life.\n",
    "   - [ ] 1 Almost never\n",
    "   - [ ] 2 Sometimes\n",
    "   - [ ] 3 Often\n",
    "   - [ ] 4 Almost always\n",
    "\n",
    "5. I worry too much over something that does not really matter.\n",
    "   - [ ] 1 Almost never\n",
    "   - [ ] 2 Sometimes\n",
    "   - [ ] 3 Often\n",
    "   - [ ] 4 Almost always\n",
    "\n",
    "6. I get in a state of tension.\n",
    "   - [ ] 1 Almost never\n",
    "   - [ ] 2 Sometimes\n",
    "   - [ ] 3 Often\n",
    "   - [ ] 4 Almost always\n",
    "\n",
    "#### C: Your habits of using social media.\n",
    "7. On average, how many hours per day do you spend on social media?  \n",
    "   - [ ] Less than 1 hour  \n",
    "   - [ ] 1-2 hours  \n",
    "   - [ ] 3-4 hours  \n",
    "   - [ ] 5-6 hours  \n",
    "   - [ ] More than 6 hours  \n",
    "\n",
    "8. How often do you engage in interactions (likes, shares, comments) on social media?  \n",
    "   - [ ] Rarely (twice a week or less)  \n",
    "   - [ ] Occasionally (3-5 times a week)  \n",
    "   - [ ] Frequently (1-4 times daily)  \n",
    "   - [ ] Very Frequently (more than 4 times everyday)  \n",
    "\n",
    "9. Which social media platforms do you use regularly? (Select all that apply)  \n",
    "   - [ ] Facebook  \n",
    "   - [ ] Instagram  \n",
    "   - [ ] Twitter  \n",
    "   - [ ] TikTok  \n",
    "   - [ ] Other (please specify): __________\n",
    "\n",
    "#### D: Your feelings and thoughts when you use social media.\n",
    "10. How do you feel after using social media?\n",
    "   - [ ] More stressed\n",
    "   - [ ] Less stressed\n",
    "   - [ ] No change\n",
    "          \n",
    "11. Have you ever experienced stress due to interactions on social media?\n",
    "   - [ ] Yes\n",
    "   - [ ] No\n",
    "\n",
    "12. I have experienced negative comments or bullying on social media.\n",
    "   \n",
    "   - [ ] Yes\n",
    "   - [ ] No\n",
    "\n",
    "13. I feel anxious when my posts do not receive likes or comments.\n",
    "\n",
    "   - [ ] 1 Almost never\n",
    "   - [ ] 2 Sometimes\n",
    "   - [ ] 3 Often\n",
    "   - [ ] 4 Almost always\n",
    "\n",
    "14. I feel uncomfortable or stressed when someone criticizes me online.\n",
    "   \n",
    "   - [ ] 1 Almost never\n",
    "   - [ ] 2 Sometimes\n",
    "   - [ ] 3 Often\n",
    "   - [ ] 4 Almost always\n",
    "\n",
    "15. I think the amount of information on social media is too much for me.\n",
    "   \n",
    "   - [ ] 1 Disagree\n",
    "   - [ ] 2 Somewhat disagree\n",
    "   - [ ] 3 Somewhat agree\n",
    "   - [ ] 4 Agree\n",
    "\n",
    "16. I feel pressured presenting a certain image on social media\n",
    "   \n",
    "   - [ ] 1 Disagree\n",
    "   - [ ] 2 Somewhat disagree\n",
    "   - [ ] 3 Somewhat agree\n",
    "   - [ ] 4 Agree\n",
    "         \n",
    "17. Can you describe an experience on social media that made you feel particularly stressed or anxious?\n",
    "   - _______________ (Open-ended)"
   ]
  },
  {
   "cell_type": "code",
   "execution_count": null,
   "metadata": {},
   "outputs": [],
   "source": []
  },
  {
   "cell_type": "markdown",
   "metadata": {},
   "source": [
    "##### How do I conduct this questionnaire?\n",
    "\n",
    "<b>Step 1: Pre-Testing and Pilot Study<b>\n",
    "   \n",
    "1. Pilot Testing: Conduct a pilot test with a small sample (e.g., 10-30 participants) representative of my target population to clear out possible confusions. Gather feedback from pilot participants on the questionnaire’s clarity, relevance, and length. Make adjustments as necessary.\n",
    "\n",
    "2. Refine the Questionnaire: Based on feedback and the analysis of pilot data, refine the questions to improve clarity and ensure they accurately measure what we want.\n",
    "\n",
    "<b>Step 2: Define Population and Sampling Method<b>\n",
    "\n",
    "1. Identify the Population: Clearly define who my target respondents are.\n",
    "\n",
    "2. Sampling Method: Choose an appropriate sampling method. Options include:\n",
    "   - Random Sampling: Every member of the population has an equal chance of being selected. This helps avoid bias.\n",
    "   - Stratified Sampling: Divide the population into subgroups (strata) and sample from each stratum to ensure representation of different segments (e.g., age).\n",
    "   - Avoid sampling bias\n",
    "\n",
    "<b>Step 3: Administration of the Questionnaire<b>\n",
    "\n",
    "1. My chosen method is: Use tools like Google Forms, SurveyMonkey, or Qualtrics to easily share and collect responses.\n",
    "\n",
    "2. Brief Participants: Provide participants with clear instructions on how to complete the questionnaire and reassure them about the confidentiality of their responses.\n",
    "   - Informed Consent: Ensure that participants are aware of the study’s purpose, what participation involves, and any potential risks.\n",
    "\n",
    "3. Collect Responses: Use an appropriate time frame for collecting responses (e.g., one week to two weeks) and send reminders if necessary to encourage participation.\n",
    "\n",
    "\n",
    "<b>Step 4: Analyze Data<b>\n",
    "\n",
    "1. Descriptive Statistics: Calculate basic statistics (means, medians, variances) to understand overall trends within your data.\n",
    "\n",
    "2. Assess Validity:\n",
    "    - Content Validity: Ensure that your questions cover all aspects of the constructs you intend to measure.\n",
    "    - Construct Validity: Compare your questionnaire results with existing validated measures if applicable (e.g., Perceived Stress Scale).\n",
    "  \n",
    "3. Conduct Reliability Tests: Calculate Cronbach’s alpha to assess how closely related items in the questionnaire are.\n"
   ]
  },
  {
   "cell_type": "code",
   "execution_count": null,
   "metadata": {},
   "outputs": [],
   "source": []
  },
  {
   "cell_type": "markdown",
   "metadata": {},
   "source": [
    "#### Task 1.7\n",
    "<b>Validability:</b> I tried to cover most of the dimensions and variables that could effect the outcomes. e.g: age, occupation, personality traits, etc., which I believe contributes to content validity. And I also tried to avoid sensitive data points that may cause issues with the Ethics board. I also checked out some materials to see how stress can be measured, and tried to tailor my questionnaire based off those materials (e.g: State-Trait Anxiety Inventory (STAI)) I also added some open-ended questions so that they have a degree of freedom to express. But since I am no expert in this psychology field, I may need to improve its content by gathering some feedbacks from advisors or conducting a Pilot study.\n",
    "<br><b>Reliability:</b> To ensure the reliability, best way is to consider each factors X, conduct EDA, do t-test and also conducts some tests. And for a subjective, open-ended question like questions No.17, we need to develop a categorial scheme like <br>E.g: \n",
    "   - Negative interactions (bullying, criticism)\n",
    "   - Comparison Anxiety (feeling inferior, FOMO)\n",
    "   - Information Overload (feeling overwhelmed)\n",
    "   - Image Management Stress (worrying about presenting oneself)\n",
    "   - Personal Experiences (individual accounts without specific categories)\n",
    "\n",
    "Then pick-out some raters to evaluate/categorise them. Ideally, the raters should provide somewhate similar results."
   ]
  },
  {
   "cell_type": "code",
   "execution_count": null,
   "metadata": {},
   "outputs": [],
   "source": []
  },
  {
   "cell_type": "markdown",
   "metadata": {},
   "source": [
    "#### Task 2 **[20 points] Ethics and Consent**\n",
    "\n",
    "For this task, you are required to prepare the necessary documentation to seek ethics approval for the experiment you designed in Task 1. In addition to the experiment protocol (Task 1), you have to provide the consent form you are going to use and the basic questionnaire of the ethics board of the department. You can find the form and other information on the webpage of the ethics board: https://www.inf.uni-hamburg.de/en/home/ethics.html\n",
    "\n",
    "1. Write a comprehensive consent form that would be presented to a participant filling out the questionnaire in the process as defined in Task 1.6.\n",
    "2. Fill out the \"Ethics Assessment Form\" provided by the ethical committee for your experiment."
   ]
  },
  {
   "cell_type": "code",
   "execution_count": null,
   "metadata": {},
   "outputs": [],
   "source": []
  },
  {
   "cell_type": "markdown",
   "metadata": {},
   "source": [
    "#### Task 3 **[50 points] The Magic Data Experiment**\n",
    "\n",
    "Similar to Assigmnent 3, you will need to get data from our Magic Data API to finish this task (see sample code below).\n",
    "The overall aim of this task is to find the model that generates this data and show evidence that your chosen hypothesis is correct.\n",
    "\n",
    "**Make sure you justify, explain, and/or interpret decisions and visualizations made within this task.**\n",
    "\n",
    "1. Use the Magic Data API to collect initial data (please send your data files along with all other assignment deliverables). Perform EDA on your collected data in order to find a model that can explain the data. <br>_Hint: There might be temporal dependencies between data from API calls at different times..._\n",
    "2. Construct a graph that shows the hypothesized dependencies between the variables in your data.\n",
    "3. Choose one (or more) hypothesis to test and select appropriate testing methods to evaluate your hypotheses. Justify the chosen method(s) and the test procedure.\n",
    "4. Conduct the experiment: Gather the data needed (**only 500 data points in total are allowed!**), implement the statistical tests derived in Task 3.3, report key metrics such as test statistics, p-values, and effect sizes, and (most importantly!) interpret the results in the context of the hypothesis. Use appropriate visualizations to support conclusions and discuss their implications.\n",
    "5. Imagine you were to publish the results of your study in a short paper: Write a conclusion section for your hypothetical publication explaining your study results. This section should include the most relevant information about your study, i.e., a summary of the conducted experiment, the data collection process, the relevant statistics, the testing procedure(s), and your findings concerning the research question(s). **We are not looking for a full paper, just the last section!**<br>\n",
    "    _Hint: Take a look at [this paper](https://www.nature.com/articles/s41598-021-01325-z) for inspiration concerning scientific writing style and how to describe testing procedures and results._\n",
    "\n",
    "**Some rules/hints:**\n",
    "- Make sure to follow the steps: Inital Data -> EDA -> Hypothesis -> Experimental Data Collection -> Hypothesis test -> Result\n",
    "- In Task 3.3, think about an experimental procedure to test your hypothesis: How do I need to collect the data? Which conditions do you have/need? \n",
    "- Send all data together with your submission, so that we can follow up on your results! Make sure, to base everything for the experimental step on 500 data points in total. Carefully select how to gather data to prove your point! \n",
    "- **I repeat: The whole experiment in T3.4 has to be based on 500 data points! These can be collected in between 5-500 steps, depending on your procedure &#x1F600;**\n"
   ]
  },
  {
   "cell_type": "code",
   "execution_count": null,
   "metadata": {},
   "outputs": [],
   "source": [
    "# Get data from magic generator\n",
    "import pandas as pd\n",
    "import requests\n",
    "import json\n",
    "\n",
    "# Constants for the server access\n",
    "SERVER = \"http://134.100.12.180:8080\"\n",
    "HEADERS = {\"Accept\": \"application/json\"}\n",
    "\n",
    "# Retrieve data and store body in data frame\n",
    "data = {}\n",
    "number_of_data = 5\n",
    "result = requests.get(f\"{SERVER}/getdata/{number_of_data}\", headers=HEADERS)\n",
    "if result.status_code != 200:\n",
    "    print(\n",
    "        f\"Error while accessing the data generator: {result.json()['detail']}\"\n",
    "    )\n",
    "else:\n",
    "    data[\"data\"] = json.loads(result.json()[\"data\"])\n",
    "    data[\"date\"] = result.json()[\"date\"]\n",
    "\n",
    "    data_df = pd.DataFrame(data[\"data\"])"
   ]
  },
  {
   "cell_type": "code",
   "execution_count": null,
   "metadata": {},
   "outputs": [],
   "source": [
    "# Save data as file\n",
    "csv_header = f\"Data retrieved on: {data['date']}\\n\"\n",
    "\n",
    "with open(\"data/A04_data.csv\", \"w\") as f:\n",
    "    f.write(csv_header)\n",
    "    data_df.to_csv(f)"
   ]
  },
  {
   "cell_type": "code",
   "execution_count": null,
   "metadata": {},
   "outputs": [],
   "source": [
    "# Load data from file\n",
    "df_loaded = pd.read_csv(\"data/A04_data.csv\", header=1, index_col=0)\n",
    "df_loaded"
   ]
  }
 ],
 "metadata": {
  "kernelspec": {
   "display_name": "Python 3 (ipykernel)",
   "language": "python",
   "name": "python3"
  },
  "language_info": {
   "codemirror_mode": {
    "name": "ipython",
    "version": 3
   },
   "file_extension": ".py",
   "mimetype": "text/x-python",
   "name": "python",
   "nbconvert_exporter": "python",
   "pygments_lexer": "ipython3",
   "version": "3.12.4"
  }
 },
 "nbformat": 4,
 "nbformat_minor": 4
}
