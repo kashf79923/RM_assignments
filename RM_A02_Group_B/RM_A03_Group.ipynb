{
 "cells": [
  {
   "cell_type": "markdown",
   "metadata": {},
   "source": [
    "# Research Methods <br>UHH - Knowledge Technology Research Group - WiSe 2024/2025\n",
    "## Assignment #3 - Multivariate EDA & Testing Procedures"
   ]
  },
  {
   "cell_type": "markdown",
   "metadata": {},
   "source": [
    "***\n",
    "### Group: \n",
    "### Names of members: \n",
    "\n",
    "***"
   ]
  },
  {
   "cell_type": "markdown",
   "metadata": {},
   "source": [
    "### Instructions:\n",
    "\n",
    "Please answer the questions below. Copy this notebook and enter your answers underneath each task description, inserting cells as needed. You may use a combination of [python 3](https://www.python.org), [markdown](http://jupyter-notebook.readthedocs.io/en/stable/examples/Notebook/Working%20With%20Markdown%20Cells.html), and [LaTex](https://towardsdatascience.com/write-markdown-latex-in-the-jupyter-notebook-10985edb91fd) to formulate your responses. In order to successfully complete the assignment, you will need the lecture material provided in the [RM moodle course](https://lernen.min.uni-hamburg.de/course/view.php?id=4709), especially L04 & L05.\n",
    "\n",
    "**Make sure to use only a copy of this notebook for your answers instead of a new/blank notebook.**\n",
    "\n",
    "### Grading Criteria:\n",
    "\n",
    "In order to successfully pass this assignment, you will need **at least a total of 70 points out of 100 points**, and every task has to be tackled.\n",
    "\n",
    "### Submission:\n",
    "\n",
    "Please upload the following two files **until Tuesday, November 19, 2024, 20:00 CET (Germany)** together in a .zip archive in moodle:\n",
    "1. a (single) copy of this jupyter notebook containing your answers for all tasks (file extension: .ipynb)\n",
    "2. an [exported PDF document](https://jupyterlab.readthedocs.io/en/stable/user/export.html) of the jupyter notebook (file extension: .pdf)\n",
    "\n",
    "### Presentation:\n",
    "\n",
    "Make sure that each (!) group member takes part in solving this assignment and is prepared to answer questions and/or present solutions from your submitted notebook during our assignment revision meeting scheduled for **Wednesday, November 27, 2024, 10:00 - 13:00 CET (Germany)**.\n",
    "\n",
    "### File Naming:\n",
    "\n",
    "Add the group letter to the file name prior to submission. For example, if your group letter is \"A\" (see group selection in moodle), you would use the following filename: \n",
    "1. RM_A03_Group_A.ipynb\n",
    "2. RM_A03_Group_A.pdf\n",
    "\n",
    "***\n",
    "***"
   ]
  },
  {
   "cell_type": "markdown",
   "metadata": {
    "pycharm": {
     "name": "#%% md\n"
    }
   },
   "source": [
    "As a reminder of how to present and be critical with your results in this assignment: \n",
    "\n",
    "**Imagine you are a member of a climate research committee. Fellow scientists, journalists, and politicians are interested in your results and your critical scientific evaluation.**"
   ]
  },
  {
   "cell_type": "markdown",
   "metadata": {},
   "source": [
    "#### Task 1 **[30 points] Correlation Analysis**\n",
    "\n",
    "For this task, your goal is to perform a correlation analysis on the statistical measurement \"[annual CO<sub>2</sub> emissions](https://ourworldindata.org/grapher/annual-co2-emissions-per-country?tab=chart&facet=none&country=~OWID_WRL)\" and statistical measurements \"mean temperature\" and \"precipitation\" from the CRU climate dataset, with each year representing one data sample. You can download the data associated with the CO<sub>2</sub> emission plot using the link provided above (when accessing each URL, go to menu item _download_ right below the visualization plot).\n",
    "\n",
    "For this task, use data from years 1901-2022 from the country/entity \"WORLD\" of each the CRU dataset and the CO<sub>2</sub> emission dataset.\n",
    "\n",
    "1. Download and import the CO<sub>2</sub> emission dataset and merge the values with the data from the CRU dataset (grouped by year). The result should be a dataframe that contains the annual CO<sub>2</sub> emissions as well as mean temperature and precipitation for each respective year.\n",
    "2. Create two scatter plots: One showing annual CO<sub>2</sub> emissions vs. mean temperature and the second showing annual CO<sub>2</sub> emissions vs. precipitation.\n",
    "3. Fit linear regression models to the data used in the scatter plots (e.g., using the [scikit-learn library](https://scikit-learn.org/stable/index.html)) and add the two resulting regression lines to both scatter plots from the previous part of this task.\n",
    "4. Calculate the Pearson's correlation coefficient for the measurements used in both scatter plots respectively and explain your result briefly.\n",
    "5. Explain in your own words the following factors that have to be considered when interpreting a correlation coefficient: (A) non-linear relationship, (B) outliers, and (C) correlation vs. causality."
   ]
  },
  {
   "cell_type": "code",
   "execution_count": null,
   "metadata": {},
   "outputs": [],
   "source": []
  },
  {
   "cell_type": "markdown",
   "metadata": {},
   "source": [
    "#### Task 2 **[30 points] Hypothesis Testing**\n",
    "\n",
    "Imagine you want to determine whether global monthly mean temperatures are increasing using the number of warmer and colder months (with respect to the same month 50 years ago, as calculated in Assignment 2) as sample data.\n",
    "1. State hypotheses $H_0$ and $H_1$ and briefly evaluate whether they're testable and falsifiable.\n",
    "2. Define both type 1 ($\\alpha$) and type 2 ($\\beta$) error for the given hypotheses. What is the meaning and what would be the consequence of these errors given your hypotheses?\n",
    "3. Is the hypothesis test you would perform to answer the given question one-sided or two-sided? Briefly explain your choice.\n",
    "4. Define the term \"statistical power\" and its characteristics with respect to the given research question.\n",
    "5. Apart from the CO<sub>2</sub> emissions as explored in Task 1, which other extraneous factors may also influence the difference of monthly mean temperatures?"
   ]
  },
  {
   "cell_type": "code",
   "execution_count": null,
   "metadata": {},
   "outputs": [],
   "source": []
  },
  {
   "cell_type": "markdown",
   "metadata": {},
   "source": [
    "#### Task 3 **[40 points] Time Series Analysis**\n",
    "\n",
    "Your goal for this task is to do a time series analysis on two unknown time series. You can download the two series through an API call (see below). <br>\n",
    "<b>Please note the following things:</b>\n",
    "\n",
    "- The data server will always return slightly <b>different data</b> on each API call!\n",
    "- You can use the code below to retrieve the data once(!), save the data into a file, share it with your team members, and then use the file for further analysis. This way everyone in the group is always working on the same data.\n",
    "- Submit the data file, <b>including the retrieval date</b> (as shown in the example code), so that we can see what data you have based your analysis on. \n",
    "- The example code does not have to be submitted (i.e., you can delete it once you have the data saved). \n",
    "\n",
    "On the retrieved data, please perform the following analysis:\n",
    "1. Plot the two time series so that they can be visually compared. Analyze them visually and state some first hypotheses based on your visual analysis.\n",
    "2. Perform smoothing on each time series and plot the smoothed series together with the original. Make sure the viewer can clearly recognize which line is the smoothed one. For the smoothing procedure, choose a method and window size $n$ that makes most sense to you. Explain and evaluate your choice briefly.\n",
    "3. Using appropriate statistics, analyze both time series to look for the following: (A) trend, (B) cyclic variation, and (C) cross correlations. For each feature, explain what the analysis has shown.\n",
    "4. Revisit your first hypotheses from Task 3.1 and interpret all findings from Task 3.2 and Task 3.3 in the light of your first ideas. How has your first impression changed? What have you been able to show through your analysis? What do the results mean in terms of predictive power?      "
   ]
  },
  {
   "cell_type": "markdown",
   "metadata": {},
   "source": [
    "##### **Code for data retrieval** (can be removed once the data file is generated):"
   ]
  },
  {
   "cell_type": "code",
   "execution_count": null,
   "metadata": {},
   "outputs": [],
   "source": [
    "# Get time series\n",
    "import pandas as pd\n",
    "import requests\n",
    "import json\n",
    "\n",
    "# Constants for the server access\n",
    "SERVER = \"http://134.100.12.180:8000\"\n",
    "HEADERS = {\"Accept\": \"application/json\"}\n",
    "\n",
    "# Retrieve data and store body in data frame\n",
    "data = {}\n",
    "result = requests.get(f\"{SERVER}/gettimelines/\", headers=HEADERS)\n",
    "if result.status_code != 200:\n",
    "    print(\n",
    "        f\"Error while accessing the data generator: {result.json()['detail'][0]['msg']}\"\n",
    "    )\n",
    "else:\n",
    "    data[\"data\"] = json.loads(result.json()[\"data\"])\n",
    "    data[\"date\"] = result.json()[\"date\"]\n",
    "\n",
    "data_df = pd.DataFrame(data[\"data\"])\n",
    "data_df.head()"
   ]
  },
  {
   "cell_type": "code",
   "execution_count": null,
   "metadata": {},
   "outputs": [],
   "source": [
    "# Save data as file\n",
    "csv_header = f\"Data retrieved on: {data['date']}\\n\"\n",
    "\n",
    "with open(\"data/A03_data.csv\", \"w\") as f:\n",
    "    f.write(csv_header)\n",
    "    data_df.to_csv(f)"
   ]
  },
  {
   "cell_type": "code",
   "execution_count": null,
   "metadata": {},
   "outputs": [],
   "source": [
    "# Load data from file\n",
    "df_loaded = pd.read_csv(\"data/A03_data.csv\", header=1, index_col=0)\n",
    "df_loaded"
   ]
  }
 ],
 "metadata": {
  "kernelspec": {
   "display_name": "Python 3 (ipykernel)",
   "language": "python",
   "name": "python3"
  },
  "language_info": {
   "codemirror_mode": {
    "name": "ipython",
    "version": 3
   },
   "file_extension": ".py",
   "mimetype": "text/x-python",
   "name": "python",
   "nbconvert_exporter": "python",
   "pygments_lexer": "ipython3",
   "version": "3.12.2"
  }
 },
 "nbformat": 4,
 "nbformat_minor": 4
}
